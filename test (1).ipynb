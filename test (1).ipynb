{
 "cells": [
  {
   "cell_type": "code",
   "execution_count": 3,
   "metadata": {},
   "outputs": [],
   "source": [
    "from baml_client.sync_client import b\n",
    "from baml_client.types import Resume, Evaluation\n",
    "\n",
    "def ParseResume(raw_resume: str) -> Resume: \n",
    "  # BAML's internal parser guarantees ExtractResume\n",
    "  # to be always return a Resume type\n",
    "  response = b.ExtractResume(raw_resume)\n",
    "  print(response)\n",
    "  return response\n",
    "\n",
    "def EvaluateCandidate(CANDIDATE_RESUME: str, JD: str, github: str) -> Evaluation:\n",
    "\n",
    "  response = b.CandidateEvaluation(CANDIDATE_RESUME,JD,github)\n",
    "  print(response)\n",
    "  return response\n",
    "\n"
   ]
  },
  {
   "cell_type": "code",
   "execution_count": 4,
   "metadata": {},
   "outputs": [
    {
     "name": "stdout",
     "output_type": "stream",
     "text": [
      "contact_info=ContactInfo(full_name='Priyansh Neema', email='neemapriyanshrd786@gmail.com', phone='+91-9993165137', address=None, linkedin='linkedin.com/in/priyansh-neema-3899a0175', website='priyanshneema.carrd.co', github='github.com/Priyansh-jsk') summary='I am an enthusiastic Data Scientist with a strong interest in Natural Language Processing (NLP). My passion lies in continuously learning new technology. I also have experience working as a Technical Writer Engineer.' typeOfDevelopment=[<TypeofDevelopment.AID: 'AID'>, <TypeofDevelopment.BD: 'BD'>] work_experience=[Experience(company='Nomyx', position='AI/ML Engineer', start_date='2023-09-01', end_date=None, location='Remote', is_current=True, responsibilities=['Work on LLM models.'], achievements=None), Experience(company='Coto: A Web3 social community app', position='AI/ML Engineer', start_date='2023-04-01', end_date='2023-07-01', location='Remote', is_current=False, responsibilities=['Developing AI/ML models and algorithms to solve real-world problems.', 'Data preprocessing, feature engineering.', 'Leveraging AzureOCR and EasyOCR.', 'Managing MongoDB pipeline for various operations.', 'Working with Apache Airflow for orchestrating complex workflows.', 'Using Docker for packaging and deploying applications.'], achievements=None), Experience(company='Avyay Solutions (spinoff from Krypt)', position='AI/ML Engineer', start_date='2022-07-01', end_date='2023-04-01', location='Bangalore', is_current=False, responsibilities=['Developed Rules-based/NLP Process Flows.', 'Worked on ML large dataset for multi-model testing & evaluation.', 'Used models like VGG16.', 'NLP, Text pre-processing, Image processing/Image Classification.', 'NLP pipeline: stemming, lemmatization, Bag of words, TF-IDF.'], achievements=None), Experience(company='HotWax Systems', position='Software Developer Intern', start_date='2022-01-01', end_date='2022-06-01', location='Indore', is_current=False, responsibilities=['Worked on Core Java JSP + Servlet, MySQL.', 'Worked on Apache OFBiz framework.'], achievements=None)] education=[Education(institution='Shri Vaishnav Vidyapeeth Vishwavidyalaya', degree='B.Tech', field_of_study='Computer Science', graduation_date='2022-07-01', gpa=None, honors=None)] skills=[Skill(name='C/C++', level=<SkillLevel.Advanced: 'Advanced'>), Skill(name='Data Structure', level=<SkillLevel.Advanced: 'Advanced'>), Skill(name='Core Java', level=<SkillLevel.Advanced: 'Advanced'>), Skill(name='Python', level=<SkillLevel.Advanced: 'Advanced'>), Skill(name='AI/Machine Learning', level=<SkillLevel.Expert: 'Expert'>), Skill(name='NLP', level=<SkillLevel.Expert: 'Expert'>), Skill(name='Image Processing/Image Classification', level=<SkillLevel.Advanced: 'Advanced'>), Skill(name='LLM', level=<SkillLevel.Advanced: 'Advanced'>), Skill(name='OCI', level=<SkillLevel.Intermediate: 'Intermediate'>), Skill(name='AWS', level=<SkillLevel.Intermediate: 'Intermediate'>), Skill(name='AzureOCR', level=<SkillLevel.Intermediate: 'Intermediate'>), Skill(name='Docker', level=<SkillLevel.Intermediate: 'Intermediate'>), Skill(name='Git & GitHub', level=<SkillLevel.Intermediate: 'Intermediate'>), Skill(name='MySQL', level=<SkillLevel.Intermediate: 'Intermediate'>), Skill(name='MongoDB', level=<SkillLevel.Intermediate: 'Intermediate'>), Skill(name='Linux', level=<SkillLevel.Intermediate: 'Intermediate'>), Skill(name='Windows', level=<SkillLevel.Intermediate: 'Intermediate'>), Skill(name='HTML5', level=<SkillLevel.Intermediate: 'Intermediate'>), Skill(name='CSS', level=<SkillLevel.Intermediate: 'Intermediate'>)] projects=[Project(project=Projects(name='MyTutor E Learning Portal', description='An E-Learning platform.', technologies='Various', category=<TypeofDevelopment.BD: 'BD'>, url=None)), Project(project=Projects(name='WhatsApp Chat Analyzer', description='A tool to analyze WhatsApp chat data.', technologies='Various', category=<TypeofDevelopment.AID: 'AID'>, url=None)), Project(project=Projects(name='GoLang (CRUD operation)', description='Create, Read, Update, Delete operations using GoLang.', technologies='GoLang', category=<TypeofDevelopment.BD: 'BD'>, url=None)), Project(project=Projects(name='Student Management System using JSP Servlet', description='A system to manage student data.', technologies='JSP, Servlet', category=<TypeofDevelopment.BD: 'BD'>, url=None)), Project(project=Projects(name='Face emotion analysis', description='Analyze emotions from facial images.', technologies='Various', category=<TypeofDevelopment.AID: 'AID'>, url=None)), Project(project=Projects(name='AzureOCR', description='OCR tool using Azure.', technologies='Azure', category=<TypeofDevelopment.AID: 'AID'>, url=None)), Project(project=Projects(name='ChatBot using LLM', description='A ChatBot leveraging LLM.', technologies='LLM', category=<TypeofDevelopment.AID: 'AID'>, url=None))] certifications=[Certification(name='OpenCV for Beginners', issuing_organization='CoRise', date_obtained='2023-01-01', expiry_date=None, link=None), Certification(name='SQL Crash Course', issuing_organization='CoRise', date_obtained='2022-11-01', expiry_date=None, link=None), Certification(name='Problem Solving', issuing_organization='HackerRank', date_obtained='2020-05-01', expiry_date=None, link=None), Certification(name='ChatGPT Prompt engineer course', issuing_organization='DeepLearning.ai', date_obtained='2023-01-01', expiry_date=None, link=None)] languages=None interests=['Traveling', 'Writing technical blogs', 'Playing badminton', 'Swimming']\n"
     ]
    }
   ],
   "source": [
    "resume_data = \"\"\"\n",
    "riyansh Neema\n",
    "I am an enthusiastic Data Scientist with a strong interest in Natural Language Processing (NLP). My passion lies in continuously learning new technology. I also have experience working as a Technical Writer Engineer. Outside of work, I love traveling, writing technical blogs, playing badminton, and swimming.\n",
    "neemapriyanshrd786@gmail.com +91-9993165137 priyanshneema.carrd.co/\n",
    "linkedin.com/in/priyansh-neema-3899a0175 github.com/Priyansh-jsk neemapriyanshrd786.medium.com\n",
    "EDUCATION\n",
    "B.Tech Computer Science\n",
    "Shri Vaishnav Vidyapeeth Vishwavidyalaya\n",
    "08/2018 - 07/2022, Indore\n",
    "WORK EXPERIENCE\n",
    "AI/ML Engineer Nomyx\n",
    "09/2023 – Present Remote\n",
    "Achievements/Tasks - Work on LLM models.\n",
    "AI/ML Engineer\n",
    "Coto: A Web3 social community app\n",
    "04/2023 - 07/2023, Remote\n",
    "Achievements/Tasks\n",
    "SKILLS\n",
    "C/C++, Data Structure, Core Java, Python, AI/Machine Learning, NLP, Image Processing/ Image Classification, LLM, OCI\n",
    "Cloud Tech: AWS, AzureOCR, Docker, Git & GitHub.\n",
    "Data Management: MySQL, MongoDB.\n",
    "Platforms: Linux, Window\n",
    "Web Technologies: HTML5, CSS.\n",
    "Developing AI/ML models and algorithms to solve real-world problems. This involves tasks such as data preprocessing, feature engineering. Frameworks and libraries used- NLTK, TensorFlow, scikit-learn.\n",
    "Work on leveraging AzureOCR and EasyOCR, which are optical character recognition (OCR) tools.\n",
    "Create and manage a MongoDB pipeline for various operations. Example- How many like, comment share on post.\n",
    "Work with Apache Airflow, which is a platform for orchestrating complex workflows and scheduling tasks.\n",
    "Work on Docker a containerization platform, to package and deploy applications and services.\n",
    "AI/ML Engineer\n",
    "Avyay Solutions is spinoff company of Krypt\n",
    "07/2022 - 04/2023, Bangalore\n",
    "Achievements/Tasks\n",
    "Developed Rules-based/NLP Process Flows. Work on ML large dataset for multi-model testing & evaluation.\n",
    "Model used- VGG16, Supervised Machine learning.\n",
    "Work on NLP, Text pre-processing, Image processing/ Image Classification. NLP pipeline- stemming and lemmatization, Bag of words, TF-IDF.\n",
    "Software Developer Intern\n",
    "HotWax Systems\n",
    "01/2022 - 06/2022, Indore\n",
    "Achievements/Tasks\n",
    "Work on Core java JSP + Servlet, MySQL. Work on Apache OFBiz framework\n",
    "LEADERSHIP & ACTIVITIES\n",
    "Technical Content Writer Intern at intervue.io\n",
    "GDG Cloud Indore: Volunteer (09/2019 - 11/2019)\n",
    "Participated in Void Hacks 2.0, an online Hackathon conducted by S.V.V.V.\n",
    "Participated in Data Science Quiz- Data Grandmasters organized by Cliff.ai\n",
    "Attend Nullcon Security Conference\n",
    "CERTIFICATES\n",
    "OpenCV for Beginners (12/2022 - 01/2023) CoRise SQL Crash Course (10/2022 - 11/2022) HackerRank: Problem Solving (03/2020 - 05/2020)\n",
    "Completed ChatGPT Prompt engineer course by DeepLearning.ai.\n",
    "PROJECTS\n",
    "MyTutor E Learning Portal ● WhatsApp Chat Analyzer\n",
    "GoLang (CRUD operation) ● Student Management\n",
    "System using JSP Servlet ● Face emotion analysis\n",
    "Image processing/Image classification ● AzureOCR\n",
    "ChatBot using LLM.\n",
    "\"\"\"\n",
    "\n",
    "output = ParseResume(resume_data)"
   ]
  },
  {
   "cell_type": "code",
   "execution_count": 11,
   "metadata": {},
   "outputs": [
    {
     "name": "stdout",
     "output_type": "stream",
     "text": [
      "github.com/Priyansh-jsk\n"
     ]
    }
   ],
   "source": [
    "import json\n",
    "json_data = json.loads(output.json())\n",
    "print(json_data['contact_info']['github'])"
   ]
  },
  {
   "cell_type": "code",
   "execution_count": 13,
   "metadata": {},
   "outputs": [],
   "source": [
    "from backend.extract_github import extract_github_data\n",
    "json_github = extract_github_data('github.com/Priyansh-jsk')"
   ]
  },
  {
   "cell_type": "code",
   "execution_count": 16,
   "metadata": {},
   "outputs": [
    {
     "data": {
      "text/plain": [
       "'{\\'name\\': None, \\'company\\': \\'Student at S.V.V.V\\', \\'location\\': \\'Indore\\', \\'email\\': None, \\'bio\\': None, \\'public_repos\\': 55, \\'followers\\': 48, \\'following\\': 96, \\'id\\': \\'Priyansh-jsk\\', \\'repositories\\': {\\'ai-assistant-cli\\': {\\'description\\': \"AN AI Assistant in your terminal, powered by OpenAI\\'s Assistant API\", \\'created_at\\': \\'2024-01-19T17:53:28Z\\', \\'updated_at\\': \\'2024-01-19T17:53:28Z\\', \\'stargazers_count\\': 0, \\'language\\': None, \\'open_issues\\': 0, \\'watchers\\': 0}, \\'AI-ML_ImgtoText\\': {\\'description\\': None, \\'created_at\\': \\'2023-10-21T11:21:12Z\\', \\'updated_at\\': \\'2023-10-21T11:23:30Z\\', \\'stargazers_count\\': 0, \\'language\\': \\'Jupyter Notebook\\', \\'open_issues\\': 0, \\'watchers\\': 0}, \\'Apache_OFbiz\\': {\\'description\\': None, \\'created_at\\': \\'2022-03-16T11:50:08Z\\', \\'updated_at\\': \\'2022-03-16T11:57:32Z\\', \\'stargazers_count\\': 0, \\'language\\': \\'Java\\', \\'open_issues\\': 1, \\'watchers\\': 0}, \\'API_Task-python\\': {\\'description\\': None, \\'created_at\\': \\'2023-02-26T10:20:01Z\\', \\'updated_at\\': \\'2023-02-26T10:20:01Z\\', \\'stargazers_count\\': 0, \\'language\\': None, \\'open_issues\\': 0, \\'watchers\\': 0}, \\'AWS\\': {\\'description\\': \\'Amazon web service is a platform that offers flexible, scalable, easy to use and cost-effective cloud computing solutions.\\', \\'created_at\\': \\'2020-09-19T09:31:17Z\\', \\'updated_at\\': \\'2021-06-16T17:56:32Z\\', \\'stargazers_count\\': 12, \\'language\\': None, \\'open_issues\\': 0, \\'watchers\\': 12}, \\'ChatGPT_PE_LLM\\': {\\'description\\': None, \\'created_at\\': \\'2023-08-17T11:33:25Z\\', \\'updated_at\\': \\'2023-08-17T11:33:25Z\\', \\'stargazers_count\\': 0, \\'language\\': None, \\'open_issues\\': 0, \\'watchers\\': 0}, \\'commclassroomOP\\': {\\'description\\': None, \\'created_at\\': \\'2022-01-06T06:29:03Z\\', \\'updated_at\\': \\'2023-11-16T22:48:50Z\\', \\'stargazers_count\\': 0, \\'language\\': None, \\'open_issues\\': 0, \\'watchers\\': 0}, \\'CoreJava\\': {\\'description\\': None, \\'created_at\\': \\'2022-01-11T06:48:32Z\\', \\'updated_at\\': \\'2022-01-12T11:40:26Z\\', \\'stargazers_count\\': 0, \\'language\\': None, \\'open_issues\\': 0, \\'watchers\\': 0}, \\'Core_Java\\': {\\'description\\': None, \\'created_at\\': \\'2022-01-27T10:40:54Z\\', \\'updated_at\\': \\'2022-02-07T05:29:18Z\\', \\'stargazers_count\\': 0, \\'language\\': \\'Java\\', \\'open_issues\\': 1, \\'watchers\\': 0}, \\'CoRise-SQL_course-task\\': {\\'description\\': None, \\'created_at\\': \\'2022-11-12T06:00:17Z\\', \\'updated_at\\': \\'2022-11-12T06:00:42Z\\', \\'stargazers_count\\': 0, \\'language\\': \\'Jupyter Notebook\\', \\'open_issues\\': 0, \\'watchers\\': 0}, \\'Covid19-Cases-in-India\\': {\\'description\\': \\'This project is all about how many covid cases ,Death, and recover cases in all state. I use Python Web scraping.\\', \\'created_at\\': \\'2020-06-03T04:07:48Z\\', \\'updated_at\\': \\'2020-10-02T08:51:39Z\\', \\'stargazers_count\\': 1, \\'language\\': None, \\'open_issues\\': 0, \\'watchers\\': 1}, \\'Customer-Churn-Prediction-Assignment_ML_-Intern\\': {\\'description\\': None, \\'created_at\\': \\'2023-09-16T09:34:17Z\\', \\'updated_at\\': \\'2023-09-16T10:13:15Z\\', \\'stargazers_count\\': 0, \\'language\\': \\'Jupyter Notebook\\', \\'open_issues\\': 0, \\'watchers\\': 0}, \\'Data-Structures-and-Algorithms-in-Python\\': {\\'description\\': \\'This repository consists of variety of data structures and algorithm problems required to excel in placement season.  \\', \\'created_at\\': \\'2024-03-24T10:29:27Z\\', \\'updated_at\\': \\'2024-03-24T10:29:27Z\\', \\'stargazers_count\\': 0, \\'language\\': None, \\'open_issues\\': 0, \\'watchers\\': 0}, \\'Dec-Web-Dev-Bootcamp\\': {\\'description\\': None, \\'created_at\\': \\'2022-07-21T05:06:33Z\\', \\'updated_at\\': \\'2022-05-06T19:48:07Z\\', \\'stargazers_count\\': 0, \\'language\\': None, \\'open_issues\\': 0, \\'watchers\\': 0}, \\'Docker-Basics\\': {\\'description\\': \\'Docker is a tool designed to make it easier to create, deploy, and run applications by using containers. Containers allow a developer to package up an application with all of the parts it needs, such as libraries and other dependencies, and deploy it as one package.\\', \\'created_at\\': \\'2020-09-15T10:21:53Z\\', \\'updated_at\\': \\'2020-09-15T10:24:56Z\\', \\'stargazers_count\\': 0, \\'language\\': None, \\'open_issues\\': 0, \\'watchers\\': 0}, \\'DSA-Bootcamp-Java\\': {\\'description\\': \\'This repository consists of the code samples, assignments, and the curriculum for the Community Classroom complete Data Structures & Algorithms Java bootcamp.\\', \\'created_at\\': \\'2021-09-22T06:07:10Z\\', \\'updated_at\\': \\'2021-09-22T06:07:10Z\\', \\'stargazers_count\\': 0, \\'language\\': None, \\'open_issues\\': 0, \\'watchers\\': 0}, \\'Edge-DSML\\': {\\'description\\': \\'Data Science and Machine Learning codes for Scaler Edge Batch\\', \\'created_at\\': \\'2022-07-21T05:08:16Z\\', \\'updated_at\\': \\'2022-07-16T09:46:05Z\\', \\'stargazers_count\\': 0, \\'language\\': None, \\'open_issues\\': 0, \\'watchers\\': 0}, \\'face-and-eye-detection\\': {\\'description\\': None, \\'created_at\\': \\'2020-06-03T13:05:23Z\\', \\'updated_at\\': \\'2020-06-03T13:18:43Z\\', \\'stargazers_count\\': 0, \\'language\\': None, \\'open_issues\\': 0, \\'watchers\\': 0}, \\'Face_Emotion_Detection\\': {\\'description\\': None, \\'created_at\\': \\'2022-06-19T11:32:35Z\\', \\'updated_at\\': \\'2022-06-19T11:33:26Z\\', \\'stargazers_count\\': 0, \\'language\\': \\'Jupyter Notebook\\', \\'open_issues\\': 0, \\'watchers\\': 0}, \\'Fellowship-Challenge\\': {\\'description\\': None, \\'created_at\\': \\'2021-04-20T13:55:37Z\\', \\'updated_at\\': \\'2021-04-20T13:56:21Z\\', \\'stargazers_count\\': 0, \\'language\\': \\'Jupyter Notebook\\', \\'open_issues\\': 0, \\'watchers\\': 0}, \\'Flask_Tasks\\': {\\'description\\': None, \\'created_at\\': \\'2022-08-20T10:52:22Z\\', \\'updated_at\\': \\'2022-08-20T13:11:13Z\\', \\'stargazers_count\\': 0, \\'language\\': \\'HTML\\', \\'open_issues\\': 0, \\'watchers\\': 0}, \\'Full-stack-task\\': {\\'description\\': None, \\'created_at\\': \\'2023-09-23T05:01:29Z\\', \\'updated_at\\': \\'2023-09-23T05:01:30Z\\', \\'stargazers_count\\': 0, \\'language\\': None, \\'open_issues\\': 0, \\'watchers\\': 0}, \\'Gemini_function_calling\\': {\\'description\\': None, \\'created_at\\': \\'2024-03-18T16:52:29Z\\', \\'updated_at\\': \\'2024-03-18T16:53:58Z\\', \\'stargazers_count\\': 0, \\'language\\': \\'Jupyter Notebook\\', \\'open_issues\\': 0, \\'watchers\\': 0}, \\'GitLearning\\': {\\'description\\': None, \\'created_at\\': \\'2022-01-06T05:56:13Z\\', \\'updated_at\\': \\'2022-01-06T06:25:18Z\\', \\'stargazers_count\\': 0, \\'language\\': None, \\'open_issues\\': 0, \\'watchers\\': 0}, \\'GoLangCRUD_API\\': {\\'description\\': None, \\'created_at\\': \\'2023-05-05T17:29:55Z\\', \\'updated_at\\': \\'2023-05-05T17:30:27Z\\', \\'stargazers_count\\': 0, \\'language\\': \\'Go\\', \\'open_issues\\': 0, \\'watchers\\': 0}, \\'GoLang_work\\': {\\'description\\': None, \\'created_at\\': \\'2023-01-09T16:44:28Z\\', \\'updated_at\\': \\'2023-01-09T18:47:10Z\\', \\'stargazers_count\\': 0, \\'language\\': \\'Go\\', \\'open_issues\\': 0, \\'watchers\\': 0}, \\'Guessing-game\\': {\\'description\\': \\'A guessing game of a Sentance.\\', \\'created_at\\': \\'2020-05-23T06:29:17Z\\', \\'updated_at\\': \\'2020-10-15T06:35:53Z\\', \\'stargazers_count\\': 2, \\'language\\': None, \\'open_issues\\': 0, \\'watchers\\': 2}, \\'gym-website-\\': {\\'description\\': None, \\'created_at\\': \\'2020-09-30T19:52:15Z\\', \\'updated_at\\': \\'2020-09-30T19:53:37Z\\', \\'stargazers_count\\': 0, \\'language\\': \\'HTML\\', \\'open_issues\\': 0, \\'watchers\\': 0}, \\'Hackathon_Part2-solution\\': {\\'description\\': None, \\'created_at\\': \\'2022-06-18T10:28:39Z\\', \\'updated_at\\': \\'2022-06-18T10:29:07Z\\', \\'stargazers_count\\': 0, \\'language\\': \\'Jupyter Notebook\\', \\'open_issues\\': 0, \\'watchers\\': 0}, \\'Hacktoberfest-2020\\': {\\'description\\': None, \\'created_at\\': \\'2020-10-14T04:02:16Z\\', \\'updated_at\\': \\'2020-10-14T04:02:20Z\\', \\'stargazers_count\\': 0, \\'language\\': None, \\'open_issues\\': 0, \\'watchers\\': 0}}}'"
      ]
     },
     "execution_count": 16,
     "metadata": {},
     "output_type": "execute_result"
    }
   ],
   "source": [
    "str(json_github)"
   ]
  },
  {
   "cell_type": "code",
   "execution_count": 14,
   "metadata": {},
   "outputs": [],
   "source": [
    "JD = \"\"\" Job Description: DevOps Azure AI Engineer:   Role Overview\n",
    "      We're on the hunt for an Azure Open AI DevOps Engineer to join our dynamic team. As a DevOps Engineer specialising in AI solutions, you will play a crucial role in building, testing, deploying, and maintaining cutting-edge AI applications on the Azure platform. You'll work alongside our AI Engineers, Business Analysts, Testers, Product Owners, Architects, and Scrum Masters to deliver game-changing solutions for our clients.\n",
    "      Your ability to communicate effectively with these stakeholders and bridge the gap between development and operations will be crucial for the success of our AI projects.\n",
    "      Key Responsibilities\n",
    "      * Develop and implement AI solutions using the Azure stack, including but not limited to Azure Open AI and Azure AI Studio, implement and manage Azure-based infrastructure for AI workloads\n",
    "      * Design, implement, and maintain CI/CD pipelines for AI solutions using Azure DevOps or GitHub Actions\n",
    "      * Collaborate with cross-functional teams to ensure seamless integration of AI solutions, optimise deployments, performance, security, and scalability of AI solutions\n",
    "      * Stay up-to-date with the latest trends and technologies in DevOps and AI and industry best practices\n",
    "      * Implement best practices for DevOps and continuously improve our development and deployment processes\n",
    "      * Develop and manage our Azure infrastructure using Infrastructure as Code (IaC), preferably Terraform\n",
    "      * Containerise AI applications using Docker\n",
    "      * Implement and manage monitoring and logging solutions using Azure Monitor and Application Insights\n",
    "      * Troubleshoot and resolve issues in development, testing, and production environments\n",
    "      * Interface with internal stakeholders and clients to understand infrastructure requirements\n",
    "      Required Skills and Qualifications\n",
    "      * Bachelor's degree in Computer Science, Engineering, or an AI or ML related field\n",
    "      * 2+ years of experience in DevOps or similar roles using DevOps practices and tools\n",
    "      * Strong experience with Azure cloud services, particularly in Azure Open AI and AI Studio\n",
    "      * Familiarity with Infrastructure as Code concepts and tools (preferably Terraform)\n",
    "      * Familiarity with Identity, RBAC and Cloud Security\n",
    "      * Strong proficiency in Python programming\n",
    "      * Experience with version control systems (GitHub)\n",
    "      * Experience with CI/CD pipelines, preferably Azure DevOps or GitHub Actions\n",
    "      * Knowledge of AI/ML concepts and frameworks (e.g., TensorFlow, PyTorch, etc.)\n",
    "      * Proficiency in containerisation and orchestration (Kubernetes, AKS, etc.)\n",
    "      * Extensive experience with Azure cloud platform and services, particularly:\n",
    "        * Azure OpenAI Service\n",
    "        * Azure Cognitive Services\n",
    "        * Azure databases (e.g., CosmosDB, Azure SQL Database)\n",
    "        * Azure Kubernetes Service (AKS)\n",
    "        * Azure AI Studio\n",
    "      * Experience working with Microsoft Bot Framework, Power Platform, Sharepoint\n",
    "      * Experience with API development and management\n",
    "      * Familiarity with Agile methodologies, particularly Scrum\n",
    "      * Excellent problem-solving skills, analytical skills and communication skills\n",
    "      Nice to Have\n",
    "      * At least one of the Azure DevOps Engineer certifications (AZ-900, AZ-104, AZ-204, AZ-400)\n",
    "      * At least one of the Azure AI certifications (e.g., AI-900 or AI-102)\n",
    "      * Scrum Agile certification (e.g., Professional Scrum Master I) or demonstrable experience working in Scrum teams\n",
    "      Preferred Qualifications\n",
    "      * Experience with AWS stack, allowing for multi-cloud comparisons and migrations\n",
    "      * Experience using Notion for project management and collaboration\n",
    "      * Additional Azure certifications (e.g., Azure Solutions Architect Expert / AZ-305)\n",
    "      * Contribution to open-source AI projects\n",
    "      * Hands-on experience with Azure OpenAI Service and Azure AI Studio, including model deployment and fine-tuning\n",
    "      * Familiarity with responsible AI practices and ethical considerations in AI development\"\"\""
   ]
  },
  {
   "cell_type": "code",
   "execution_count": 18,
   "metadata": {},
   "outputs": [
    {
     "name": "stdout",
     "output_type": "stream",
     "text": [
      "OverallScore=7 Explanation='The candidate has strong AI/ML skills, which align well with the AI part of the job. They possess relevant Python and Docker skills but lack specific Azure DevOps and Terraform experience.' Recommendation='Consider the candidate for an AI Engineer role with a pathway to develop their Azure DevOps skills on the job. They could be a good fit with some additional training in Azure-specific practices.' ApplicationStatus=<ApplicationCategory.WorthHavingALook: 'WorthHavingALook'>\n"
     ]
    }
   ],
   "source": [
    "finaloutpiut = EvaluateCandidate(str(json_data), JD, str(json_github))"
   ]
  },
  {
   "cell_type": "code",
   "execution_count": 19,
   "metadata": {},
   "outputs": [
    {
     "name": "stdout",
     "output_type": "stream",
     "text": [
      "OverallScore=7 Explanation='The candidate has strong AI/ML skills, which align well with the AI part of the job. They possess relevant Python and Docker skills but lack specific Azure DevOps and Terraform experience.' Recommendation='Consider the candidate for an AI Engineer role with a pathway to develop their Azure DevOps skills on the job. They could be a good fit with some additional training in Azure-specific practices.' ApplicationStatus=<ApplicationCategory.WorthHavingALook: 'WorthHavingALook'>\n"
     ]
    }
   ],
   "source": [
    "print(finaloutpiut)"
   ]
  },
  {
   "cell_type": "markdown",
   "metadata": {},
   "source": [
    "OverallScore=7 \n",
    "\n",
    "Explanation='The candidate has strong AI/ML skills, which align well with the AI part of the job. They possess relevant Python and Docker skills but lack specific Azure DevOps and Terraform experience.' \n",
    "\n",
    "Recommendation='Consider the candidate for an AI Engineer role with a pathway to develop their Azure DevOps skills on the job. They could be a good fit with some additional training in Azure-specific practices.' \n",
    "\n",
    "ApplicationStatus= 'WorthHavingALook'"
   ]
  },
  {
   "cell_type": "code",
   "execution_count": null,
   "metadata": {},
   "outputs": [],
   "source": []
  }
 ],
 "metadata": {
  "kernelspec": {
   "display_name": ".venv",
   "language": "python",
   "name": "python3"
  },
  "language_info": {
   "codemirror_mode": {
    "name": "ipython",
    "version": 3
   },
   "file_extension": ".py",
   "mimetype": "text/x-python",
   "name": "python",
   "nbconvert_exporter": "python",
   "pygments_lexer": "ipython3",
   "version": "3.12.0"
  }
 },
 "nbformat": 4,
 "nbformat_minor": 2
}
